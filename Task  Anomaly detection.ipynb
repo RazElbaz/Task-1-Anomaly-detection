{
 "cells": [
  {
   "cell_type": "markdown",
   "id": "6cc64ff0",
   "metadata": {},
   "source": [
    "# Task -1 Anomaly detection\n",
    "## Student ID1: 207276775"
   ]
  },
  {
   "cell_type": "code",
   "execution_count": 256,
   "id": "d0b7b5e6",
   "metadata": {},
   "outputs": [],
   "source": [
    "# Imports\n",
    "%matplotlib inline\n",
    "import pandas as pd\n",
    "import numpy as np\n",
    "import matplotlib.pyplot as plt\n",
    "import seaborn as sns\n",
    "from scipy.stats import norm\n",
    "from sklearn.preprocessing import StandardScaler\n",
    "from scipy import stats\n",
    "import warnings\n",
    "# data wrangling\n",
    "from sklearn.cluster import DBSCAN"
   ]
  },
  {
   "cell_type": "markdown",
   "id": "b65a7219",
   "metadata": {},
   "source": [
    "## Read the data\n",
    "In this section we will read the information we received from the file for which we will need to perform anomaly detection"
   ]
  },
  {
   "cell_type": "code",
   "execution_count": 257,
   "id": "50fbfbb3",
   "metadata": {},
   "outputs": [
    {
     "data": {
      "text/html": [
       "<div>\n",
       "<style scoped>\n",
       "    .dataframe tbody tr th:only-of-type {\n",
       "        vertical-align: middle;\n",
       "    }\n",
       "\n",
       "    .dataframe tbody tr th {\n",
       "        vertical-align: top;\n",
       "    }\n",
       "\n",
       "    .dataframe thead th {\n",
       "        text-align: right;\n",
       "    }\n",
       "</style>\n",
       "<table border=\"1\" class=\"dataframe\">\n",
       "  <thead>\n",
       "    <tr style=\"text-align: right;\">\n",
       "      <th></th>\n",
       "      <th>record ID</th>\n",
       "      <th>duration_</th>\n",
       "      <th>src_bytes</th>\n",
       "      <th>dst_bytes</th>\n",
       "    </tr>\n",
       "  </thead>\n",
       "  <tbody>\n",
       "    <tr>\n",
       "      <th>0</th>\n",
       "      <td>1</td>\n",
       "      <td>0</td>\n",
       "      <td>236</td>\n",
       "      <td>1228</td>\n",
       "    </tr>\n",
       "    <tr>\n",
       "      <th>1</th>\n",
       "      <td>2</td>\n",
       "      <td>0</td>\n",
       "      <td>239</td>\n",
       "      <td>486</td>\n",
       "    </tr>\n",
       "    <tr>\n",
       "      <th>2</th>\n",
       "      <td>3</td>\n",
       "      <td>0</td>\n",
       "      <td>234</td>\n",
       "      <td>1364</td>\n",
       "    </tr>\n",
       "    <tr>\n",
       "      <th>3</th>\n",
       "      <td>4</td>\n",
       "      <td>0</td>\n",
       "      <td>239</td>\n",
       "      <td>1295</td>\n",
       "    </tr>\n",
       "    <tr>\n",
       "      <th>4</th>\n",
       "      <td>5</td>\n",
       "      <td>0</td>\n",
       "      <td>181</td>\n",
       "      <td>5450</td>\n",
       "    </tr>\n",
       "    <tr>\n",
       "      <th>...</th>\n",
       "      <td>...</td>\n",
       "      <td>...</td>\n",
       "      <td>...</td>\n",
       "      <td>...</td>\n",
       "    </tr>\n",
       "    <tr>\n",
       "      <th>256665</th>\n",
       "      <td>256666</td>\n",
       "      <td>0</td>\n",
       "      <td>306</td>\n",
       "      <td>236</td>\n",
       "    </tr>\n",
       "    <tr>\n",
       "      <th>256666</th>\n",
       "      <td>256667</td>\n",
       "      <td>0</td>\n",
       "      <td>288</td>\n",
       "      <td>4017</td>\n",
       "    </tr>\n",
       "    <tr>\n",
       "      <th>256667</th>\n",
       "      <td>256668</td>\n",
       "      <td>0</td>\n",
       "      <td>289</td>\n",
       "      <td>1096</td>\n",
       "    </tr>\n",
       "    <tr>\n",
       "      <th>256668</th>\n",
       "      <td>256669</td>\n",
       "      <td>0</td>\n",
       "      <td>198</td>\n",
       "      <td>2169</td>\n",
       "    </tr>\n",
       "    <tr>\n",
       "      <th>256669</th>\n",
       "      <td>256670</td>\n",
       "      <td>0</td>\n",
       "      <td>212</td>\n",
       "      <td>2288</td>\n",
       "    </tr>\n",
       "  </tbody>\n",
       "</table>\n",
       "<p>256670 rows × 4 columns</p>\n",
       "</div>"
      ],
      "text/plain": [
       "        record ID  duration_  src_bytes  dst_bytes\n",
       "0               1          0        236       1228\n",
       "1               2          0        239        486\n",
       "2               3          0        234       1364\n",
       "3               4          0        239       1295\n",
       "4               5          0        181       5450\n",
       "...           ...        ...        ...        ...\n",
       "256665     256666          0        306        236\n",
       "256666     256667          0        288       4017\n",
       "256667     256668          0        289       1096\n",
       "256668     256669          0        198       2169\n",
       "256669     256670          0        212       2288\n",
       "\n",
       "[256670 rows x 4 columns]"
      ]
     },
     "execution_count": 257,
     "metadata": {},
     "output_type": "execute_result"
    }
   ],
   "source": [
    "f_path = \"/Users/97252/Downloads/conn_attack.csv\"\n",
    "'''\n",
    "record ID - The unique identifier for each connection record.\n",
    "duration_  This feature denotes the number of seconds (rounded) of the connection. For example, a connection for 0.17s or 0.3s would be indicated with a “0” in this field.\n",
    "src_bytes This field represents the number of data bytes transferred from the source to the destination (i.e., the amount of out-going bytes from the host).\n",
    "dst_bytes This fea\n",
    "ture represents the number of data bytes transferred from the destination to the source (i.e., the amount of bytes received by the host).\n",
    "'''\n",
    "df = pd.read_csv(f_path,names=[\"record ID\",\"duration_\", \"src_bytes\",\"dst_bytes\"], header=None)\n",
    "df"
   ]
  },
  {
   "cell_type": "markdown",
   "id": "3a775723",
   "metadata": {},
   "source": [
    "# # Pandas DataFrame\n"
   ]
  },
  {
   "cell_type": "markdown",
   "id": "bd57ad83",
   "metadata": {},
   "source": [
    "A. Handling missing data"
   ]
  },
  {
   "cell_type": "code",
   "execution_count": 258,
   "id": "a135e7ac",
   "metadata": {},
   "outputs": [
    {
     "data": {
      "text/plain": [
       "record ID    0.0\n",
       "duration_    0.0\n",
       "src_bytes    0.0\n",
       "dst_bytes    0.0\n",
       "dtype: float64"
      ]
     },
     "execution_count": 258,
     "metadata": {},
     "output_type": "execute_result"
    }
   ],
   "source": [
    "# determin the missing data precentage\n",
    "df.apply(lambda x: sum(x.isna()) / len(df))"
   ]
  },
  {
   "cell_type": "markdown",
   "id": "a6d0fa85",
   "metadata": {},
   "source": [
    "B. Remove na/nan: ##The Pandas function dropna() drops rows or columns (depending on the parameter you choose) that contain missing values. This function takes the axis parameter which you set as 0 to drop rows, and 1 to drop columns."
   ]
  },
  {
   "cell_type": "code",
   "execution_count": 259,
   "id": "5a9b9e9a",
   "metadata": {},
   "outputs": [
    {
     "data": {
      "text/plain": [
       "(256670, 4)"
      ]
     },
     "execution_count": 259,
     "metadata": {},
     "output_type": "execute_result"
    }
   ],
   "source": [
    "df.shape\n"
   ]
  },
  {
   "cell_type": "code",
   "execution_count": 260,
   "id": "bbf1e637",
   "metadata": {},
   "outputs": [
    {
     "data": {
      "text/plain": [
       "False"
      ]
     },
     "execution_count": 260,
     "metadata": {},
     "output_type": "execute_result"
    }
   ],
   "source": [
    "df.isnull().any().any() # check if we have nan values."
   ]
  },
  {
   "cell_type": "markdown",
   "id": "fd1a14b2",
   "metadata": {},
   "source": [
    "E. Describe"
   ]
  },
  {
   "cell_type": "code",
   "execution_count": 261,
   "id": "c495f211",
   "metadata": {},
   "outputs": [
    {
     "data": {
      "text/plain": [
       "4473.532613862158"
      ]
     },
     "execution_count": 261,
     "metadata": {},
     "output_type": "execute_result"
    }
   ],
   "source": [
    "#Mean\n",
    "df['dst_bytes'].mean()"
   ]
  },
  {
   "cell_type": "code",
   "execution_count": 262,
   "id": "4a745127",
   "metadata": {},
   "outputs": [
    {
     "data": {
      "text/plain": [
       "src_bytes     249.0\n",
       "dst_bytes    1661.0\n",
       "dtype: float64"
      ]
     },
     "execution_count": 262,
     "metadata": {},
     "output_type": "execute_result"
    }
   ],
   "source": [
    "#Median of two seperate columns\n",
    "df[[\"src_bytes\", \"dst_bytes\"]].median()"
   ]
  },
  {
   "cell_type": "code",
   "execution_count": 263,
   "id": "27e0b0a4",
   "metadata": {},
   "outputs": [
    {
     "data": {
      "text/html": [
       "<div>\n",
       "<style scoped>\n",
       "    .dataframe tbody tr th:only-of-type {\n",
       "        vertical-align: middle;\n",
       "    }\n",
       "\n",
       "    .dataframe tbody tr th {\n",
       "        vertical-align: top;\n",
       "    }\n",
       "\n",
       "    .dataframe thead th {\n",
       "        text-align: right;\n",
       "    }\n",
       "</style>\n",
       "<table border=\"1\" class=\"dataframe\">\n",
       "  <thead>\n",
       "    <tr style=\"text-align: right;\">\n",
       "      <th></th>\n",
       "      <th>duration_</th>\n",
       "      <th>dst_bytes</th>\n",
       "    </tr>\n",
       "  </thead>\n",
       "  <tbody>\n",
       "    <tr>\n",
       "      <th>min</th>\n",
       "      <td>0.000000</td>\n",
       "      <td>0.000000e+00</td>\n",
       "    </tr>\n",
       "    <tr>\n",
       "      <th>max</th>\n",
       "      <td>3289.000000</td>\n",
       "      <td>7.068759e+06</td>\n",
       "    </tr>\n",
       "    <tr>\n",
       "      <th>median</th>\n",
       "      <td>0.000000</td>\n",
       "      <td>1.661000e+03</td>\n",
       "    </tr>\n",
       "    <tr>\n",
       "      <th>skew</th>\n",
       "      <td>74.033196</td>\n",
       "      <td>NaN</td>\n",
       "    </tr>\n",
       "    <tr>\n",
       "      <th>mean</th>\n",
       "      <td>NaN</td>\n",
       "      <td>4.473533e+03</td>\n",
       "    </tr>\n",
       "  </tbody>\n",
       "</table>\n",
       "</div>"
      ],
      "text/plain": [
       "          duration_     dst_bytes\n",
       "min        0.000000  0.000000e+00\n",
       "max     3289.000000  7.068759e+06\n",
       "median     0.000000  1.661000e+03\n",
       "skew      74.033196           NaN\n",
       "mean            NaN  4.473533e+03"
      ]
     },
     "execution_count": 263,
     "metadata": {},
     "output_type": "execute_result"
    }
   ],
   "source": [
    "#Instead of the predefined statistics, specific combinations can be calculated\n",
    "df.agg(\n",
    "    {\n",
    "        \"duration_\": [\"min\", \"max\", \"median\", \"skew\"],\n",
    "        \"dst_bytes\": [\"min\", \"max\", \"median\", \"mean\"],\n",
    "    }\n",
    ")"
   ]
  },
  {
   "cell_type": "markdown",
   "id": "5bff720b",
   "metadata": {},
   "source": [
    "## Data exploration\n",
    "\n",
    "### Explore the data, understand the featues, statistics visualize the inputs"
   ]
  },
  {
   "cell_type": "markdown",
   "id": "2a059dd2",
   "metadata": {},
   "source": [
    "skew:\n",
    "    \n",
    "    In probability theory and statistics, skewness is a measure of the asymmetry of the probability distribution of a real-valued random variable about its mean. The skewness value can be positive, zero, negative, or undefined.\n"
   ]
  },
  {
   "cell_type": "code",
   "execution_count": 264,
   "id": "c3987007",
   "metadata": {},
   "outputs": [
    {
     "name": "stdout",
     "output_type": "stream",
     "text": [
      "Skewness: 15.824471\n",
      "Kurtosis: 248.739606\n"
     ]
    }
   ],
   "source": [
    "'''\n",
    "Deviate from the normal distribution.\n",
    "Have appreciable positive skewness.\n",
    "Show peakedness.\n",
    "'''\n",
    "#skewness and kurtosis\n",
    "print(\"Skewness: %f\" % df['src_bytes'].skew())\n",
    "print(\"Kurtosis: %f\" % df['src_bytes'].kurt()) # positive show long tail , negative light tail"
   ]
  },
  {
   "cell_type": "code",
   "execution_count": 265,
   "id": "ad8f4df6",
   "metadata": {},
   "outputs": [
    {
     "name": "stderr",
     "output_type": "stream",
     "text": [
      "C:\\Users\\97252\\anaconda3\\lib\\site-packages\\seaborn\\distributions.py:2619: FutureWarning: `distplot` is a deprecated function and will be removed in a future version. Please adapt your code to use either `displot` (a figure-level function with similar flexibility) or `histplot` (an axes-level function for histograms).\n",
      "  warnings.warn(msg, FutureWarning)\n"
     ]
    },
    {
     "name": "stdout",
     "output_type": "stream",
     "text": [
      "Skewness: 207.100418\n",
      "Kurtosis: 61028.785029\n"
     ]
    },
    {
     "data": {
      "image/png": "[encoded data removed]",
      "text/plain": [
       "<Figure size 640x480 with 1 Axes>"
      ]
     },
     "metadata": {},
     "output_type": "display_data"
    }
   ],
   "source": [
    "sns.distplot(df['dst_bytes'])\n",
    "print(\"Skewness: %f\" % df['dst_bytes'].skew())\n",
    "print(\"Kurtosis: %f\" % df['dst_bytes'].kurt())"
   ]
  },
  {
   "cell_type": "code",
   "execution_count": 266,
   "id": "a3676a3e",
   "metadata": {},
   "outputs": [
    {
     "data": {
      "image/png": "[encoded data removed]",
      "text/plain": [
       "<Figure size 640x480 with 1 Axes>"
      ]
     },
     "metadata": {},
     "output_type": "display_data"
    }
   ],
   "source": [
    "#Relationship with numerical variables\n",
    "var = 'dst_bytes'\n",
    "data = pd.concat([df['src_bytes'], df[var]], axis=1)\n",
    "data.plot.scatter(x=var, y='src_bytes', ylim=(0,100000)); # do not `assume here any thing this is just examples"
   ]
  },
  {
   "cell_type": "code",
   "execution_count": 267,
   "id": "6f98c337",
   "metadata": {},
   "outputs": [
    {
     "data": {
      "image/png": "[encoded data removed]",
      "text/plain": [
       "<Figure size 640x480 with 1 Axes>"
      ]
     },
     "metadata": {},
     "output_type": "display_data"
    }
   ],
   "source": [
    "#scatter plot totalbsmtsf/saleprice\n",
    "var = 'duration_'\n",
    "data = pd.concat([df['src_bytes'], df[var]], axis=1)\n",
    "data.plot.scatter(x=var, y='src_bytes', ylim=(0,100000));"
   ]
  },
  {
   "cell_type": "code",
   "execution_count": 268,
   "id": "843a40e2",
   "metadata": {},
   "outputs": [
    {
     "data": {
      "text/html": [
       "<div>\n",
       "<style scoped>\n",
       "    .dataframe tbody tr th:only-of-type {\n",
       "        vertical-align: middle;\n",
       "    }\n",
       "\n",
       "    .dataframe tbody tr th {\n",
       "        vertical-align: top;\n",
       "    }\n",
       "\n",
       "    .dataframe thead th {\n",
       "        text-align: right;\n",
       "    }\n",
       "</style>\n",
       "<table border=\"1\" class=\"dataframe\">\n",
       "  <thead>\n",
       "    <tr style=\"text-align: right;\">\n",
       "      <th></th>\n",
       "      <th>record ID</th>\n",
       "      <th>duration_</th>\n",
       "      <th>src_bytes</th>\n",
       "      <th>dst_bytes</th>\n",
       "    </tr>\n",
       "  </thead>\n",
       "  <tbody>\n",
       "    <tr>\n",
       "      <th>record ID</th>\n",
       "      <td>1.000000</td>\n",
       "      <td>0.027244</td>\n",
       "      <td>0.019209</td>\n",
       "      <td>-0.002970</td>\n",
       "    </tr>\n",
       "    <tr>\n",
       "      <th>duration_</th>\n",
       "      <td>0.027244</td>\n",
       "      <td>1.000000</td>\n",
       "      <td>-0.001714</td>\n",
       "      <td>-0.005791</td>\n",
       "    </tr>\n",
       "    <tr>\n",
       "      <th>src_bytes</th>\n",
       "      <td>0.019209</td>\n",
       "      <td>-0.001714</td>\n",
       "      <td>1.000000</td>\n",
       "      <td>0.010770</td>\n",
       "    </tr>\n",
       "    <tr>\n",
       "      <th>dst_bytes</th>\n",
       "      <td>-0.002970</td>\n",
       "      <td>-0.005791</td>\n",
       "      <td>0.010770</td>\n",
       "      <td>1.000000</td>\n",
       "    </tr>\n",
       "  </tbody>\n",
       "</table>\n",
       "</div>"
      ],
      "text/plain": [
       "           record ID  duration_  src_bytes  dst_bytes\n",
       "record ID   1.000000   0.027244   0.019209  -0.002970\n",
       "duration_   0.027244   1.000000  -0.001714  -0.005791\n",
       "src_bytes   0.019209  -0.001714   1.000000   0.010770\n",
       "dst_bytes  -0.002970  -0.005791   0.010770   1.000000"
      ]
     },
     "execution_count": 268,
     "metadata": {},
     "output_type": "execute_result"
    }
   ],
   "source": [
    "df.corr() "
   ]
  },
  {
   "cell_type": "markdown",
   "id": "c5e76c4c",
   "metadata": {},
   "source": [
    "## Memory Heat Map (MHM)\n",
    "According to the article:\n",
    "http://www.cs.yale.edu/homes/yoon-man-ki/DAC2015_MemoryHeatMap.pdf ,\n",
    "The efficiency can be seen in the Memory Heat Map (MHM) to characterize the memory behavior of the operating system and to identify an anomaly in a real-time system."
   ]
  },
  {
   "cell_type": "code",
   "execution_count": 269,
   "id": "f93aff02",
   "metadata": {},
   "outputs": [
    {
     "data": {
      "image/png": "[encoded data removed]",
      "text/plain": [
       "<Figure size 1600x600 with 2 Axes>"
      ]
     },
     "metadata": {},
     "output_type": "display_data"
    }
   ],
   "source": [
    "# Increase the size of the heatmap.\n",
    "plt.figure(figsize=(16, 6))\n",
    "# Store heatmap object in a variable to easily access it when you want to include more features (such as title).\n",
    "# Set the range of values to be displayed on the colormap from -1 to 1, and set the annotation to True to display the correlation values on the heatmap.\n",
    "heatmap = sns.heatmap(df.corr(), vmin=-1, vmax=1, annot=True)\n",
    "# Give a title to the heatmap. Pad defines the distance of the title from the top of the heatmap.\n",
    "heatmap.set_title('Correlation Heatmap', fontdict={'fontsize':12});"
   ]
  },
  {
   "cell_type": "code",
   "execution_count": 270,
   "id": "2865697e",
   "metadata": {},
   "outputs": [
    {
     "data": {
      "image/png": "[encoded data removed]",
      "text/plain": [
       "<Figure size 800x1200 with 2 Axes>"
      ]
     },
     "metadata": {},
     "output_type": "display_data"
    }
   ],
   "source": [
    "plt.figure(figsize=(8, 12))\n",
    "heatmap = sns.heatmap(df.corr()[['src_bytes']].sort_values(by='src_bytes', ascending=False), vmin=-1, vmax=1, annot=True, cmap='BrBG')\n",
    "heatmap.set_title('Features Correlating with src_bytes', fontdict={'fontsize':18});"
   ]
  },
  {
   "cell_type": "markdown",
   "id": "6081385b",
   "metadata": {},
   "source": [
    "# Data exploration\n",
    "## What is Data Exploration?\n",
    "Data exploration definition: Data exploration refers to the initial step in data analysis in which data analysts use data visualization and statistical techniques to describe dataset characterizations, such as size, quantity, and accuracy, in order to better understand the nature of the data."
   ]
  },
  {
   "cell_type": "markdown",
   "id": "eab276da",
   "metadata": {},
   "source": [
    "https://www.heavy.ai/learn/data-exploration "
   ]
  },
  {
   "cell_type": "markdown",
   "id": "96193130",
   "metadata": {},
   "source": [
    "# Anomaly detection using Isolation Forest"
   ]
  },
  {
   "cell_type": "markdown",
   "id": "52717949",
   "metadata": {},
   "source": [
    "(Definition from the presentation of lecture 3): \n",
    "### Isolation Forest\n",
    "• Choosing a record within the dataset and its variables;\n",
    "\n",
    "• Choosing a random value within the minimum and maximum of each variable or from uniform distribution;\n",
    "\n",
    "• Creating a node or branch: if the value of the record under consideration is greater or less than the previous random value, we repeat the exercise of evaluating our point with the minimum and maximum interval, limiting it further this time, with the cut-off point being the new maximum or minimum of the branch created.\n",
    "\n",
    "• Executing the third step until further branching is not possible and the point to be evaluated is isolated.\n",
    "\n",
    "• Thus, the fewer branches needed by the tree to isolate the point, the more\n",
    "anomalous it will be\n",
    "\n",
    "To better understand the material, I also watched the following video: https://www.youtube.com/watch?v=cRzeotaFDwk&ab_channel=MachineLearningInterview"
   ]
  },
  {
   "cell_type": "markdown",
   "id": "5202e836",
   "metadata": {},
   "source": [
    "### Theory\n",
    "The main idea, which is different from other popular outlier detection methods, is that Isolation Forest explicitly identifies anomalies instead of profiling normal data points. Isolation Forest, like any tree ensemble method, is built on the basis of decision trees. In these trees, partitions are created by first randomly selecting a feature and then selecting a random split value between the minimum and maximum value of the selected feature.\n",
    "\n",
    "In principle, outliers are less frequent than regular observations and are different from them in terms of values (they lie further away from the regular observations in the feature space). That is why by using such random partitioning they should be identified closer to the root of the tree (shorter average path length, i.e., the number of edges an observation must pass in the tree going from the root to the terminal node), with fewer splits necessary.\n",
    "As with other outlier detection methods, an anomaly score is required for decision making. In the case of Isolation Forest, it is defined as:\n",
    "\n",
    "## $$s(x,n)=2^\\frac{-E(h(x))}{c(n)} $$\n",
    "\n",
    "*h(x) is the path length of observation x\n",
    "\n",
    "*c(n) is the average path length of unsuccessful search in a Binary Search Tree\n",
    "\n",
    "*n is the number of external nodes"
   ]
  },
  {
   "cell_type": "markdown",
   "id": "fec90c81",
   "metadata": {},
   "source": [
    "https://towardsdatascience.com/outlier-detection-with-isolation-forest-3d190448d45e"
   ]
  },
  {
   "cell_type": "markdown",
   "id": "832e5fe4",
   "metadata": {},
   "source": [
    "### Isolation Forest Algorithm.\n",
    "\n",
    "Return the anomaly score of each sample using the IsolationForest algorithm\n",
    "\n",
    "The IsolationForest ‘isolates’ observations by randomly selecting a feature and then randomly selecting a split value between the maximum and minimum values of the selected feature.\n",
    "\n",
    "Since recursive partitioning can be represented by a tree structure, the number of splittings required to isolate a sample is equivalent to the path length from the root node to the terminating node.\n",
    "\n",
    "This path length, averaged over a forest of such random trees, is a measure of normality and our decision function.\n",
    "\n",
    "Random partitioning produces noticeably shorter paths for anomalies. Hence, when a forest of random trees collectively produce shorter path lengths for particular samples, they are highly likely to be anomalies.\n",
    "\n",
    "https://scikit-learn.org/stable/modules/generated/sklearn.ensemble.IsolationForest.html"
   ]
  },
  {
   "cell_type": "markdown",
   "id": "24c6db96",
   "metadata": {},
   "source": [
    "# Code - The answer to part 1 of the assignment: Data exploration\n",
    "## My experiment\n",
    "After presenting the selected Isolation Forest algorithm, I will divide my answer into trial and error (part one), show the results of the experiments for the selected parameters (part two) and after finding the best result I will show the graphs for them (part three)."
   ]
  },
  {
   "cell_type": "markdown",
   "id": "f0a94aa1",
   "metadata": {},
   "source": [
    "The truth results of the labels whether the point is an anomaly:"
   ]
  },
  {
   "cell_type": "code",
   "execution_count": 271,
   "id": "74f255ff",
   "metadata": {},
   "outputs": [
    {
     "name": "stdout",
     "output_type": "stream",
     "text": [
      "0    255648\n",
      "1      1022\n",
      "Name: anomaly, dtype: int64\n"
     ]
    }
   ],
   "source": [
    "f_path =\"/Users/97252/Downloads/conn_attack_anomaly_labels.csv\"\n",
    "df_true = pd.read_csv(f_path,names=[\"record ID\",\"anomaly\"], header=None)\n",
    "print(df_true[\"anomaly\"].value_counts())"
   ]
  },
  {
   "cell_type": "markdown",
   "id": "78318205",
   "metadata": {},
   "source": [
    "# First part: experiment and wonder\n",
    "#### Studying the algorithm and choosing the appropriate parameters\n",
    "\n",
    "class sklearn.ensemble.IsolationForest(*, n_estimators=100, max_samples='auto', contamination='auto', max_features=1.0, bootstrap=False, n_jobs=None, random_state=None, verbose=0, warm_start=False)\n",
    "* n_estimatorsint, default=100 -> The number of base estimators in the ensemble.\n",
    "* contamination ‘auto’ or float, default=’auto’-> The amount of contamination of the data set\n",
    "* max_featuresint or float, default=1.0-> The number of features to draw from X to train each base estimator\n",
    "* bootstrapbool, default=False -> If True, individual trees are fit on random subsets of the training data sampled with replacement. If False, sampling without replacement is performed.\n",
    "* n_jobsint, default=None -> The number of jobs to run in parallel for both fit and predict.\n",
    "* random_stateint, RandomState instance or None, default=None -> Controls the pseudo-randomness of the selection of the feature and split values for each branching step and each tree in the forest.\n",
    "* random_stateint, RandomState instance or None, default=None -> random_stateint, RandomState instance or None, default=None\n",
    "* verboseint, default=0 -> Controls the verbosity of the tree building process.\n",
    "* warm_startbool, default=False -> When set to True, reuse the solution of the previous call to fit and add more estimators to the ensemble, otherwise, just fit a whole new forest. \n",
    "\n",
    "I researched and saw that most of the parameters are usually set to \"default\" values with the exception of the following parameters:\n",
    "* n_estimatorsint\n",
    "* contamination\n",
    "\n",
    "https://scikit-learn.org/stable/modules/generated/sklearn.ensemble.IsolationForest.html\n",
    "\n",
    "#### Accuracy:\n",
    "Accuracy tells us how often is the classifier correct?\n",
    "\n",
    "###### Accuracy = ( TP + TN ) / ( TP + TN + FP + FN )\n",
    "\n",
    "True Positive (TP) : Observation is positive, and is predicted to be positive.\n",
    "\n",
    "False Negative (FN) : Observation is positive, but is predicted negative.\n",
    "\n",
    "True Negative (TN) : Observation is negative, and is predicted to be negative.\n",
    "\n",
    "False Positive (FP) : Observation is negative, but is predicted positive.\n",
    "\n",
    "##### i used sklearn - Accuracy which calculates this\n",
    "https://scikit-learn.org/stable/modules/generated/sklearn.metrics.accuracy_score.html https://medium.com/analytics-vidhya/classification-and-its-performance-metrics-in-machine-learning-f0ad57866ec9"
   ]
  },
  {
   "cell_type": "code",
   "execution_count": 272,
   "id": "25c1f9a9",
   "metadata": {},
   "outputs": [],
   "source": [
    "from sklearn.metrics import accuracy_score\n",
    "#We learned in lecture 2 that for the generated data set, the first n-1 columns\n",
    "#constitute the input attributes and thelast one constitutes the target attributes(label)\n",
    "input_attributes=df[[\"duration_\", \"src_bytes\",\"dst_bytes\"]]"
   ]
  },
  {
   "cell_type": "markdown",
   "id": "d858cde6",
   "metadata": {},
   "source": [
    "### Experiments for the n_estimators parameter:"
   ]
  },
  {
   "cell_type": "code",
   "execution_count": null,
   "id": "493010a1",
   "metadata": {},
   "outputs": [
    {
     "name": "stdout",
     "output_type": "stream",
     "text": [
      "---------------------------\n",
      "0    231612\n",
      "1     25058\n",
      "Name: anomaly, dtype: int64\n",
      "For n_estimators= 50\n",
      "Accuracy score: 90.64%\n",
      "---------------------------\n",
      "0    234221\n",
      "1     22449\n",
      "Name: anomaly, dtype: int64\n",
      "For n_estimators= 150\n",
      "Accuracy score: 91.65%\n"
     ]
    }
   ],
   "source": [
    "n_estimators=50\n",
    "for x in range(10):\n",
    "    isolation_forest = IsolationForest(n_estimators=n_estimators+(100*x))\n",
    "    isolation_forest.fit(input_attributes.values)\n",
    "    df[\"anomaly\"] = pd.Series(isolation_forest.predict(input_attributes.values))\n",
    "    df[\"anomaly\"] = df[\"anomaly\"].map({1:0, -1:1})\n",
    "    print(\"---------------------------\")\n",
    "    print(df[\"anomaly\"].value_counts())\n",
    "    accuracy = accuracy_score(df_true[\"anomaly\"], df[\"anomaly\"])\n",
    "    print(\"For n_estimators=\", n_estimators+(100*x))\n",
    "    #The printing is according to the section Introduction to ML in python given to us\n",
    "    print(\"Accuracy score: {0:.2f}%\".format(accuracy*100))"
   ]
  },
  {
   "cell_type": "markdown",
   "id": "a651ece4",
   "metadata": {},
   "source": [
    "### Experiments for the n_estimators parameter: contamination\n",
    "####  Experiment 1:\n",
    "0.05 reduction in each iteration"
   ]
  },
  {
   "cell_type": "code",
   "execution_count": 251,
   "id": "ab8e8959",
   "metadata": {},
   "outputs": [
    {
     "name": "stdout",
     "output_type": "stream",
     "text": [
      "0    128341\n",
      "1    128329\n",
      "Name: anomaly, dtype: int64\n",
      "For contamination= 0.5\n",
      "accuracy score: 50.40%\n",
      "0    141183\n",
      "1    115487\n",
      "Name: anomaly, dtype: int64\n",
      "For contamination= 0.45\n",
      "accuracy score: 55.40%\n",
      "0    154003\n",
      "1    102667\n",
      "Name: anomaly, dtype: int64\n",
      "For contamination= 0.4\n",
      "accuracy score: 60.40%\n",
      "0    166841\n",
      "1     89829\n",
      "Name: anomaly, dtype: int64\n",
      "For contamination= 0.35\n",
      "accuracy score: 65.40%\n",
      "0    179669\n",
      "1     77001\n",
      "Name: anomaly, dtype: int64\n",
      "For contamination= 0.3\n",
      "accuracy score: 70.40%\n",
      "0    192502\n",
      "1     64168\n",
      "Name: anomaly, dtype: int64\n",
      "For contamination= 0.25\n",
      "accuracy score: 75.40%\n",
      "0    205340\n",
      "1     51330\n",
      "Name: anomaly, dtype: int64\n",
      "For contamination= 0.19999999999999996\n",
      "accuracy score: 80.40%\n",
      "0    218174\n",
      "1     38496\n",
      "Name: anomaly, dtype: int64\n",
      "For contamination= 0.14999999999999997\n",
      "accuracy score: 85.40%\n",
      "0    231003\n",
      "1     25667\n",
      "Name: anomaly, dtype: int64\n",
      "For contamination= 0.09999999999999998\n",
      "accuracy score: 90.40%\n",
      "0    243839\n",
      "1     12831\n",
      "Name: anomaly, dtype: int64\n",
      "For contamination= 0.04999999999999999\n",
      "accuracy score: 95.40%\n"
     ]
    }
   ],
   "source": [
    "contamination=0.5 # contamination should be in the range (0, 0.5]\n",
    "for x in range(10):\n",
    "    isolation_forest = IsolationForest(contamination=contamination-(0.05*x),n_estimators=100)\n",
    "    isolation_forest.fit(input_attributes.values)\n",
    "    df[\"anomaly\"] = pd.Series(isolation_forest.predict(input_attributes.values))\n",
    "    print(\"---------------------------\")\n",
    "    print(df[\"anomaly\"].value_counts())\n",
    "    accuracy = accuracy_score(df_true[\"anomaly\"], df[\"anomaly\"])\n",
    "    print(\"For contamination=\", contamination-(0.05*x))\n",
    "    #The printing is according to the section Introduction to ML in python given to us\n",
    "    print(\"accuracy score: {0:.2f}%\".format(accuracy*100))"
   ]
  },
  {
   "cell_type": "markdown",
   "id": "20acf621",
   "metadata": {},
   "source": [
    "##### We will further reduce the good experimental result we got in order to maximize the accuracy of the algorithm:\n",
    "####  Experiment 2:\n",
    "0.005 reduction in each iteration"
   ]
  },
  {
   "cell_type": "code",
   "execution_count": 252,
   "id": "5b609362",
   "metadata": {},
   "outputs": [
    {
     "name": "stdout",
     "output_type": "stream",
     "text": [
      "0    243836\n",
      "1     12834\n",
      "Name: anomaly, dtype: int64\n",
      "For contamination= 0.05\n",
      "accuracy score: 95.40%\n",
      "0    245119\n",
      "1     11551\n",
      "Name: anomaly, dtype: int64\n",
      "For contamination= 0.045000000000000005\n",
      "accuracy score: 95.90%\n",
      "0    246409\n",
      "1     10261\n",
      "Name: anomaly, dtype: int64\n",
      "For contamination= 0.04\n",
      "accuracy score: 96.40%\n",
      "0    247686\n",
      "1      8984\n",
      "Name: anomaly, dtype: int64\n",
      "For contamination= 0.035\n",
      "accuracy score: 96.90%\n",
      "0    248969\n",
      "1      7701\n",
      "Name: anomaly, dtype: int64\n",
      "For contamination= 0.030000000000000002\n",
      "accuracy score: 97.40%\n",
      "0    250255\n",
      "1      6415\n",
      "Name: anomaly, dtype: int64\n",
      "For contamination= 0.025\n",
      "accuracy score: 97.90%\n",
      "0    251536\n",
      "1      5134\n",
      "Name: anomaly, dtype: int64\n",
      "For contamination= 0.020000000000000004\n",
      "accuracy score: 98.39%\n",
      "0    252819\n",
      "1      3851\n",
      "Name: anomaly, dtype: int64\n",
      "For contamination= 0.015\n",
      "accuracy score: 98.89%\n",
      "0    254103\n",
      "1      2567\n",
      "Name: anomaly, dtype: int64\n",
      "For contamination= 0.010000000000000002\n",
      "accuracy score: 99.39%\n"
     ]
    }
   ],
   "source": [
    "contamination=0.05 #the good experimental result we got is 0.05\n",
    "for x in range(9):\n",
    "    isolation_forest = IsolationForest(contamination=contamination-(0.005*x),n_estimators=100)\n",
    "    isolation_forest.fit(input_attributes.values)\n",
    "    df[\"anomaly\"] = pd.Series(isolation_forest.predict(input_attributes.values))\n",
    "    df[\"anomaly\"] = df[\"anomaly\"].map({1:0, -1:1})\n",
    "    print(\"---------------------------\")\n",
    "    print(df[\"anomaly\"].value_counts())\n",
    "    accuracy = accuracy_score(df_true[\"anomaly\"], df[\"anomaly\"])\n",
    "    print(\"For contamination=\", contamination-(0.005*x))\n",
    "    #The printing is according to the section Introduction to ML in python given to us\n",
    "    print(\"accuracy score: {0:.2f}%\".format(accuracy*100))"
   ]
  },
  {
   "cell_type": "markdown",
   "id": "58d40f76",
   "metadata": {},
   "source": [
    "# Part Two: The conclusions of the experiments\n",
    "#### Experimental conclusions for the parameter n_estimators:\n",
    "The changes are very minor even when we look at the differences between giving a value of 50 to the parameter and giving a value of 1000. Therefore we choose the base value for the parameter: 100\n",
    "#### Experimental conclusions for the pollution parameter:\n",
    "The changes are very significant for each change, even for the small value reductions I chose (in the first experiment I reduced 0.05 and in the second experiment 0.005 in each iteration).\n",
    "Therefore we will choose the value with the best result for the parameter: 0.01"
   ]
  },
  {
   "cell_type": "markdown",
   "id": "05088ba4",
   "metadata": {},
   "source": [
    "\n",
    "# Third part: Displaying the graphs for data exploration\n",
    "The selected algorithm parameters (after the experiment presented above):\n",
    "##### contamination=0.01\n",
    "##### n_estimators=100"
   ]
  },
  {
   "cell_type": "code",
   "execution_count": 253,
   "id": "92e2098c",
   "metadata": {},
   "outputs": [
    {
     "data": {
      "image/png": "[encoded data removed]",
      "text/plain": [
       "<Figure size 1000x400 with 1 Axes>"
      ]
     },
     "metadata": {},
     "output_type": "display_data"
    }
   ],
   "source": [
    "from sklearn.ensemble import IsolationForest\n",
    "#n_estimatorsint, default=100: The number of base estimators in the ensemble.\n",
    "isolation_forest = IsolationForest(contamination=0.01, n_estimators=100)\n",
    "#fit(X, y=None, sample_weight=None)[source]: Fit estimator\n",
    "#reshape: The function flattens a nested array of an unknown number of elements into a 1D array\n",
    "isolation_forest.fit(df['src_bytes'].values.reshape(-1, 1))\n",
    "#The NumPy linspace function (sometimes called np. linspace) is a tool in Python for creating numeric sequences.\n",
    "xx = np.linspace(df['src_bytes'].min(), df['src_bytes'].max(), len(df)).reshape(-1,1)\n",
    "anomaly_score = isolation_forest.decision_function(xx)\n",
    "#predict() : given a trained model, predict the label of a new set of data. This method accepts one argument, the new data X_new (e.g. model. predict(X_new) ), and returns the learned label for each object in the array\n",
    "outlier = isolation_forest.predict(xx)\n",
    "#figsize is a tuple of the width and height of the figure in inches\n",
    "plt.figure(figsize=(10,4))\n",
    "plt.plot(xx, anomaly_score, label='anomaly score')\n",
    "plt.fill_between(xx.T[0], np.min(anomaly_score), np.max(anomaly_score), \n",
    "                 where=outlier==-1, color='r', \n",
    "                 alpha=.4, label='outlier region')\n",
    "plt.legend()\n",
    "plt.ylabel('anomaly score')\n",
    "plt.xlabel('src_bytes')\n",
    "plt.show();"
   ]
  },
  {
   "cell_type": "code",
   "execution_count": 247,
   "id": "86cfc2fd",
   "metadata": {},
   "outputs": [
    {
     "data": {
      "image/png": "[encoded data removed]",
      "text/plain": [
       "<Figure size 1000x400 with 1 Axes>"
      ]
     },
     "metadata": {},
     "output_type": "display_data"
    }
   ],
   "source": [
    "from sklearn.ensemble import IsolationForest\n",
    "#n_estimatorsint, default=100: The number of base estimators in the ensemble.\n",
    "isolation_forest = IsolationForest(contamination=0.01, n_estimators=100)\n",
    "#fit(X, y=None, sample_weight=None)[source]: Fit estimator\n",
    "#reshape: The function flattens a nested array of an unknown number of elements into a 1D array\n",
    "isolation_forest.fit(df['dst_bytes'].values.reshape(-1, 1))\n",
    "#The NumPy linspace function (sometimes called np. linspace) is a tool in Python for creating numeric sequences.\n",
    "xx = np.linspace(df['dst_bytes'].min(), df['dst_bytes'].max(), len(df)).reshape(-1,1)\n",
    "anomaly_score = isolation_forest.decision_function(xx)\n",
    "#predict() : given a trained model, predict the label of a new set of data. This method accepts one argument, the new data X_new (e.g. model. predict(X_new) ), and returns the learned label for each object in the array\n",
    "outlier = isolation_forest.predict(xx)\n",
    "#figsize is a tuple of the width and height of the figure in inches\n",
    "plt.figure(figsize=(10,4))\n",
    "plt.plot(xx, anomaly_score, label='anomaly score')\n",
    "plt.fill_between(xx.T[0], np.min(anomaly_score), np.max(anomaly_score), \n",
    "                 where=outlier==-1, color='r', \n",
    "                 alpha=.4, label='outlier region')\n",
    "plt.legend()\n",
    "plt.ylabel('anomaly score')\n",
    "plt.xlabel('dst_bytes')\n",
    "plt.show();"
   ]
  },
  {
   "cell_type": "markdown",
   "id": "46109227",
   "metadata": {},
   "source": [
    "## References\n",
    "Each paragraph throughout the assignment includes the link I used for that section"
   ]
  },
  {
   "cell_type": "code",
   "execution_count": null,
   "id": "61f2e749",
   "metadata": {},
   "outputs": [],
   "source": []
  },
  {
   "cell_type": "code",
   "execution_count": null,
   "id": "2bc99497",
   "metadata": {},
   "outputs": [],
   "source": []
  }
 ],
 "metadata": {
  "kernelspec": {
   "display_name": "Python 3 (ipykernel)",
   "language": "python",
   "name": "python3"
  },
  "language_info": {
   "codemirror_mode": {
    "name": "ipython",
    "version": 3
   },
   "file_extension": ".py",
   "mimetype": "text/x-python",
   "name": "python",
   "nbconvert_exporter": "python",
   "pygments_lexer": "ipython3",
   "version": "3.9.13"
  }
 },
 "nbformat": 4,
 "nbformat_minor": 5
}
